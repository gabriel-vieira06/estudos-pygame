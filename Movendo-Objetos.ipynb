{
 "cells": [
  {
   "cell_type": "code",
   "execution_count": 21,
   "id": "0b7785fe",
   "metadata": {},
   "outputs": [
    {
     "ename": "SystemExit",
     "evalue": "",
     "output_type": "error",
     "traceback": [
      "An exception has occurred, use %tb to see the full traceback.\n",
      "\u001b[1;31mSystemExit\u001b[0m\n"
     ]
    }
   ],
   "source": [
    "import pygame\n",
    "from pygame.locals import *\n",
    "from sys import exit\n",
    "\n",
    "pygame.init()\n",
    "\n",
    "largura = 640\n",
    "altura = 480\n",
    "\n",
    "# Variáveis responsáveis por controlar a posição do objeto\n",
    "x = largura/2 - 20 # Centraliza o objeto na tela, no caso de um retângulo\n",
    "y = 0\n",
    "\n",
    "tela = pygame.display.set_mode((largura, altura))\n",
    "pygame.display.set_caption(\"Titulo da Janela\")\n",
    "relogio = pygame.time.Clock()\n",
    "\n",
    "while True:\n",
    "    \n",
    "    # Limita a framerate da janela\n",
    "    relogio.tick(30)\n",
    "    # Preenche a janela com a cor (R,G,B) definida\n",
    "    tela.fill((0,0,0))\n",
    "    \n",
    "    for event in pygame.event.get():\n",
    "        if event.type == QUIT:\n",
    "            pygame.quit()\n",
    "            exit()\n",
    "            \n",
    "    pygame.draw.rect(tela, (255,0,0), (x,y,40,50))\n",
    "    \n",
    "    \"\"\"\n",
    "    Incrementa a posição y do objeto, quando ele alcança a altura\n",
    "    da janela, a posição y reseta.\n",
    "    \"\"\"\n",
    "    if y >= altura:\n",
    "        y = 0\n",
    "    y = y + 1\n",
    "\n",
    "    pygame.display.update()"
   ]
  },
  {
   "cell_type": "code",
   "execution_count": null,
   "id": "1d3846dd",
   "metadata": {},
   "outputs": [],
   "source": []
  }
 ],
 "metadata": {
  "kernelspec": {
   "display_name": "Python 3 (ipykernel)",
   "language": "python",
   "name": "python3"
  },
  "language_info": {
   "codemirror_mode": {
    "name": "ipython",
    "version": 3
   },
   "file_extension": ".py",
   "mimetype": "text/x-python",
   "name": "python",
   "nbconvert_exporter": "python",
   "pygments_lexer": "ipython3",
   "version": "3.11.4"
  }
 },
 "nbformat": 4,
 "nbformat_minor": 5
}
