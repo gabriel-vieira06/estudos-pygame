{
 "cells": [
  {
   "cell_type": "code",
   "execution_count": 3,
   "id": "0b7785fe",
   "metadata": {},
   "outputs": [
    {
     "ename": "SystemExit",
     "evalue": "",
     "output_type": "error",
     "traceback": [
      "An exception has occurred, use %tb to see the full traceback.\n",
      "\u001b[1;31mSystemExit\u001b[0m\n"
     ]
    }
   ],
   "source": [
    "import pygame\n",
    "from pygame.locals import *\n",
    "from sys import exit\n",
    "\n",
    "pygame.init()\n",
    "\n",
    "largura = 640\n",
    "altura = 480\n",
    "\n",
    "tela = pygame.display.set_mode((largura, altura))\n",
    "pygame.display.set_caption(\"Titulo da Janela\")\n",
    "\n",
    "while True:\n",
    "    for event in pygame.event.get():\n",
    "        if event.type == QUIT:\n",
    "            pygame.quit()\n",
    "            exit()\n",
    "            \n",
    "    \"\"\"    \n",
    "    Desenha um retângulo, os parâmetros incluem:\n",
    "    - A tela onde será desenhado\n",
    "    - A intensidade das cores (R,G,B)\n",
    "    - As coordenadas e dimensões do retângulo (x, y, largura, altura)\n",
    "    \"\"\"\n",
    "    pygame.draw.rect(tela, (255,0,0), (200,300,40,50))\n",
    "    \n",
    "    \"\"\"    \n",
    "    Desenha um círculo, os parâmetros incluem:\n",
    "    - A tela onde será desenhado\n",
    "    - A intensidade das cores (R,G,B)\n",
    "    - As coordenadas e o raio do círculo (x, y), raio\n",
    "    \"\"\"\n",
    "    pygame.draw.circle(tela, (0,0,255), (300, 260), 40)\n",
    "    \n",
    "    \"\"\"    \n",
    "    Desenha uma reta, os parâmetros incluem:\n",
    "    - A tela onde será desenhado\n",
    "    - A intensidade das cores (R,G,B)\n",
    "    - As coordenadas dos pontos que formam a reta (x1, y1), (x2, y2)\n",
    "    - A espessura da reta\n",
    "    \"\"\"\n",
    "    pygame.draw.line(tela, (255,255,0), (390,0), (390,600), 5)\n",
    "\n",
    "    pygame.display.update()"
   ]
  },
  {
   "cell_type": "code",
   "execution_count": null,
   "id": "4460b128",
   "metadata": {},
   "outputs": [],
   "source": []
  }
 ],
 "metadata": {
  "kernelspec": {
   "display_name": "Python 3 (ipykernel)",
   "language": "python",
   "name": "python3"
  },
  "language_info": {
   "codemirror_mode": {
    "name": "ipython",
    "version": 3
   },
   "file_extension": ".py",
   "mimetype": "text/x-python",
   "name": "python",
   "nbconvert_exporter": "python",
   "pygments_lexer": "ipython3",
   "version": "3.11.4"
  }
 },
 "nbformat": 4,
 "nbformat_minor": 5
}
