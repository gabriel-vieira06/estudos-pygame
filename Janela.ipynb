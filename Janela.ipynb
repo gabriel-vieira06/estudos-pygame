{
 "cells": [
  {
   "cell_type": "code",
   "execution_count": 4,
   "id": "0b7785fe",
   "metadata": {},
   "outputs": [
    {
     "ename": "SystemExit",
     "evalue": "",
     "output_type": "error",
     "traceback": [
      "An exception has occurred, use %tb to see the full traceback.\n",
      "\u001b[1;31mSystemExit\u001b[0m\n"
     ]
    }
   ],
   "source": [
    "import pygame\n",
    "from pygame.locals import *\n",
    "from sys import exit\n",
    "\n",
    "pygame.init()\n",
    "\n",
    "largura = 640\n",
    "altura = 480\n",
    "\n",
    "# Determina as dimensões da janela\n",
    "tela = pygame.display.set_mode((largura, altura))\n",
    "\n",
    "# Determina o titulo da janela\n",
    "pygame.display.set_caption(\"Titulo da Janela\")\n",
    "\n",
    "while True:\n",
    "    for event in pygame.event.get():\n",
    "        \n",
    "        # Trata de sair da janela ao clicar no botão de fechar\n",
    "        if event.type == QUIT:\n",
    "            pygame.quit()\n",
    "            exit()\n",
    "        \n",
    "    # Linha responsável por atualizar a janela\n",
    "    pygame.display.update()"
   ]
  },
  {
   "cell_type": "code",
   "execution_count": null,
   "id": "4460b128",
   "metadata": {},
   "outputs": [],
   "source": []
  }
 ],
 "metadata": {
  "kernelspec": {
   "display_name": "Python 3 (ipykernel)",
   "language": "python",
   "name": "python3"
  },
  "language_info": {
   "codemirror_mode": {
    "name": "ipython",
    "version": 3
   },
   "file_extension": ".py",
   "mimetype": "text/x-python",
   "name": "python",
   "nbconvert_exporter": "python",
   "pygments_lexer": "ipython3",
   "version": "3.11.4"
  }
 },
 "nbformat": 4,
 "nbformat_minor": 5
}
