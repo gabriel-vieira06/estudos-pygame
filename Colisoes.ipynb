{
 "cells": [
  {
   "cell_type": "code",
   "execution_count": 31,
   "id": "0b7785fe",
   "metadata": {},
   "outputs": [
    {
     "ename": "SystemExit",
     "evalue": "",
     "output_type": "error",
     "traceback": [
      "An exception has occurred, use %tb to see the full traceback.\n",
      "\u001b[1;31mSystemExit\u001b[0m\n"
     ]
    }
   ],
   "source": [
    "import pygame\n",
    "from pygame.locals import *\n",
    "from sys import exit\n",
    "from random import randint\n",
    "\n",
    "pygame.init()\n",
    "\n",
    "largura = 640\n",
    "altura = 480\n",
    "\n",
    "x = largura/2 - 20\n",
    "y = altura/2 - 25\n",
    "\n",
    "\"\"\"\n",
    "Variáveis responsáveis por controlar a nova posição do\n",
    "retângulo azul toda vez que ele sofrer uma colisão\n",
    "\"\"\"\n",
    "x_azul = randint(40,600)\n",
    "y_azul = randint(50,430)\n",
    "\n",
    "tela = pygame.display.set_mode((largura, altura))\n",
    "pygame.display.set_caption(\"Titulo da Janela\")\n",
    "relogio = pygame.time.Clock()\n",
    "\n",
    "while True:\n",
    "    relogio.tick(30)\n",
    "    tela.fill((0,0,0))\n",
    "    \n",
    "    for event in pygame.event.get():\n",
    "        if event.type == QUIT:\n",
    "            pygame.quit()\n",
    "            exit()\n",
    "    \n",
    "    if pygame.key.get_pressed()[K_a]:\n",
    "        x = x - 20\n",
    "        if x <= 0:\n",
    "            x = largura\n",
    "            \n",
    "    if pygame.key.get_pressed()[K_s]:\n",
    "        y = y + 20\n",
    "        if y >= altura:\n",
    "            y = 0\n",
    "            \n",
    "    if pygame.key.get_pressed()[K_d]:\n",
    "        x = x + 20\n",
    "        if x >= largura:\n",
    "            x = 0\n",
    "        \n",
    "    if pygame.key.get_pressed()[K_w]:\n",
    "        y = y - 20\n",
    "        if y <= 0:\n",
    "            y = altura\n",
    "    \n",
    "    ret_vermelho = pygame.draw.rect(tela, (255,0,0), (x,y,40,50))\n",
    "    ret_azul = pygame.draw.rect(tela, (0,0,255), (x_azul,y_azul,40,50))\n",
    "    \n",
    "    \"\"\"\n",
    "    A propriedade colliderect verifica se houve uma colisão com o objeto\n",
    "    passado como paramêtro\n",
    "    \"\"\"\n",
    "    if ret_vermelho.colliderect(ret_azul):\n",
    "        x_azul = randint(40,600)\n",
    "        y_azul = randint(50,430)\n",
    "\n",
    "    pygame.display.update()"
   ]
  },
  {
   "cell_type": "code",
   "execution_count": null,
   "id": "1d3846dd",
   "metadata": {},
   "outputs": [],
   "source": []
  }
 ],
 "metadata": {
  "kernelspec": {
   "display_name": "Python 3 (ipykernel)",
   "language": "python",
   "name": "python3"
  },
  "language_info": {
   "codemirror_mode": {
    "name": "ipython",
    "version": 3
   },
   "file_extension": ".py",
   "mimetype": "text/x-python",
   "name": "python",
   "nbconvert_exporter": "python",
   "pygments_lexer": "ipython3",
   "version": "3.11.4"
  }
 },
 "nbformat": 4,
 "nbformat_minor": 5
}
